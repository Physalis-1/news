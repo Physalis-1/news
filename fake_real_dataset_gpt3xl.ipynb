{
 "cells": [
  {
   "cell_type": "code",
   "execution_count": 35,
   "id": "0101be39",
   "metadata": {},
   "outputs": [],
   "source": [
    "from bs4 import BeautifulSoup, SoupStrainer\n",
    "import requests\n",
    "import urllib.request\n",
    "import copy\n",
    "import pandas as pd\n",
    "from newspaper import Article\n",
    "import re\n",
    "import nltk\n",
    "from pymorphy2 import MorphAnalyzer\n",
    "from nltk.corpus import stopwords\n",
    "import string\n",
    "import pandas as pd\n",
    "import re \n",
    "path='fake/'\n",
    "path_real='real/'"
   ]
  },
  {
   "cell_type": "code",
   "execution_count": 36,
   "id": "a1940dfa",
   "metadata": {},
   "outputs": [],
   "source": [
    "d1 = pd.read_csv(path+'dataset1.csv',on_bad_lines='skip',sep='\\t')\n",
    "d2= pd.read_csv(path+'dataset2.csv',on_bad_lines='skip',sep='\\t')\n",
    "d3 = pd.read_csv(path+'dataset3.csv',on_bad_lines='skip',sep='\\t')\n",
    "d4 = pd.read_csv(path+'dataset6.csv')\n",
    "d5 = pd.read_csv(path+'dataset7.csv')"
   ]
  },
  {
   "cell_type": "code",
   "execution_count": 37,
   "id": "61af24a0",
   "metadata": {},
   "outputs": [],
   "source": [
    "d=pd.DataFrame()\n",
    "d=pd.concat([d,d1]).reset_index(drop=True)\n",
    "d=pd.concat([d,d2]).reset_index(drop=True)\n",
    "d=pd.concat([d,d3]).reset_index(drop=True)\n",
    "d=pd.concat([d,d4]).reset_index(drop=True)\n",
    "d=pd.concat([d,d5]).reset_index(drop=True)\n",
    "d=d.head(400)\n",
    "d.to_csv('dataset_fake.csv', encoding='utf-8', index=False)"
   ]
  },
  {
   "cell_type": "code",
   "execution_count": 38,
   "id": "5ac7b393",
   "metadata": {},
   "outputs": [],
   "source": [
    "# но всёравно надо доудалять руками\n",
    "y= pd.read_csv('dataset_fake.csv')\n",
    "pat=\"[0-9!#$%&'()*+/:;<=>?@[\\]^_`{|}~—\\\"\\-]+\"\n",
    "for i in range (0, len(y['News'])):\n",
    "    u=y['News'].iloc[i]\n",
    "    u=u.replace('Новость: специалисты по информационной безопасности заявили', '')\n",
    "    u=u.replace('[', ' ')\n",
    "    u=u.replace(']', ' ')\n",
    "    u=u.replace(\"'\", ' ')\n",
    "    u=u.replace('Новость: специалисты по информационной безопасности заявили', '')\n",
    "    u=u.replace('Новость: в ФСБ опровергли сообщения', '')\n",
    "    u=u.replace('Новость: взломаны сервера одной из крупнейших компаний', '')\n",
    "    u=u.replace('Новость: ФСТЭК опубликовал', '')\n",
    "    u=u.replace('Новость: Российсике хакеры снова', '')\n",
    "    u=u.replace('Новость: ФСТЭК вводит новые', '')\n",
    "    u=u.replace('Alexander Antipov', '')\n",
    "    u=u.replace('alexander antipov', '')\n",
    "    u=u.replace(\"_\", '')\n",
    "    u=u.replace('+', '')\n",
    "    u=u.replace('=', '')\n",
    "    u=u.replace('✂', '')\n",
    "    u=u.replace('#', '')\n",
    "    u=u.replace(',,', ' ')\n",
    "    u=u.replace('(', ' ')\n",
    "    u=u.replace(')', ' ')\n",
    "    u=u.replace(\"''\", ' ')\n",
    "    u=u.replace('\"\"', ' ')\n",
    "    u=u.replace('..', ' ')\n",
    "    u=re.sub(pat, ' ', u)\n",
    "    u=re.sub('\\n', ' ', u)\n",
    "    u=re.sub('\\t', ' ', u)\n",
    "    u=re.sub('[A-Za-z]', ' ', u)\n",
    "    u=u.replace('\\\\', ' ')\n",
    "    y.loc[i,'News']=copy.deepcopy(u)\n",
    "y.to_csv('dataset_fake_corrrect.csv', encoding='utf-8', index=False)"
   ]
  },
  {
   "cell_type": "code",
   "execution_count": 39,
   "id": "a9e7a56e",
   "metadata": {},
   "outputs": [
    {
     "name": "stdout",
     "output_type": "stream",
     "text": [
      "800\n"
     ]
    }
   ],
   "source": [
    "result_data1frame=pd.read_csv(path_real+'dataset1_news.csv')\n",
    "result_data2frame=pd.read_csv(path_real+'dataset2_news.csv')\n",
    "result_data3frame=pd.read_csv(path_real+'dataset3_news.csv')\n",
    "result_data4frame=pd.read_csv(path_real+'dataset4_news.csv')\n",
    "test_dataset = pd.read_csv('dataset_fake_corrrect.csv')\n",
    "test_dataset=pd.concat([test_dataset,result_data1frame.head(50)]).reset_index(drop=True)\n",
    "test_dataset=pd.concat([test_dataset,result_data1frame.tail(50)]).reset_index(drop=True)\n",
    "\n",
    "test_dataset=pd.concat([test_dataset,result_data2frame.head(50)]).reset_index(drop=True)\n",
    "test_dataset=pd.concat([test_dataset,result_data2frame.tail(50)]).reset_index(drop=True)\n",
    "\n",
    "test_dataset=pd.concat([test_dataset,result_data3frame.head(50)]).reset_index(drop=True)\n",
    "test_dataset=pd.concat([test_dataset,result_data3frame.tail(50)]).reset_index(drop=True)\n",
    "\n",
    "test_dataset=pd.concat([test_dataset,result_data4frame.head(50)]).reset_index(drop=True)\n",
    "test_dataset=pd.concat([test_dataset,result_data4frame.tail(50)]).reset_index(drop=True)\n",
    "print(len(test_dataset))\n",
    "test_dataset.sample(frac=1).reset_index(drop=True)\n",
    "for i in range(0, len(test_dataset['News'])):\n",
    "    u=test_dataset['News'].iloc[i]\n",
    "    u=u.replace('Alexander Antipov', '')\n",
    "    u=u.replace('alexander antipov', '')\n",
    "    test_dataset.loc[i,'News']=copy.deepcopy(u)\n",
    "test_dataset.sample(frac=1).reset_index(drop=True)\n",
    "test_dataset.to_csv('corrrect_dataset.csv', encoding='utf-8', index=False)"
   ]
  },
  {
   "cell_type": "code",
   "execution_count": 40,
   "id": "dab516d4",
   "metadata": {},
   "outputs": [
    {
     "data": {
      "text/plain": [
       "<AxesSubplot:>"
      ]
     },
     "execution_count": 40,
     "metadata": {},
     "output_type": "execute_result"
    },
    {
     "data": {
      "image/png": "[encoded data removed]",
      "text/plain": [
       "<Figure size 432x288 with 1 Axes>"
      ]
     },
     "metadata": {
      "needs_background": "light"
     },
     "output_type": "display_data"
    }
   ],
   "source": [
    "text = pd.read_csv('corrrect_dataset.csv')['News'].astype('str')\n",
    "seq_len1 = [len(str(i).split()) for i in text]\n",
    "pd.Series(seq_len1).hist(bins = 50)"
   ]
  },
  {
   "cell_type": "code",
   "execution_count": null,
   "id": "4de110ff",
   "metadata": {},
   "outputs": [],
   "source": []
  }
 ],
 "metadata": {
  "kernelspec": {
   "display_name": "Python 3 (ipykernel)",
   "language": "python",
   "name": "python3"
  },
  "language_info": {
   "codemirror_mode": {
    "name": "ipython",
    "version": 3
   },
   "file_extension": ".py",
   "mimetype": "text/x-python",
   "name": "python",
   "nbconvert_exporter": "python",
   "pygments_lexer": "ipython3",
   "version": "3.10.2"
  }
 },
 "nbformat": 4,
 "nbformat_minor": 5
}
