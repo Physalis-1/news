{
 "cells": [
  {
   "cell_type": "code",
   "execution_count": 11,
   "id": "afdc12e0",
   "metadata": {},
   "outputs": [],
   "source": [
    "import numpy as np\n",
    "from markov.cc_markov import MarkovChain\n",
    "import random \n",
    "import copy\n",
    "import pandas as pd\n",
    "path_real='real/'"
   ]
  },
  {
   "cell_type": "code",
   "execution_count": null,
   "id": "817c0194",
   "metadata": {},
   "outputs": [
    {
     "name": "stdout",
     "output_type": "stream",
     "text": [
      "1600\n",
      "0\n",
      "50\n"
     ]
    }
   ],
   "source": [
    "test_dataset=pd.DataFrame()\n",
    "result_data1frame=pd.read_csv(path_real+'dataset1_news.csv')\n",
    "result_data2frame=pd.read_csv(path_real+'dataset2_news.csv')\n",
    "result_data3frame=pd.read_csv(path_real+'dataset3_news.csv')\n",
    "result_data4frame=pd.read_csv(path_real+'dataset4_news.csv')\n",
    "test_dataset=pd.concat([test_dataset,result_data1frame]).reset_index(drop=True)\n",
    "test_dataset=pd.concat([test_dataset,result_data2frame]).reset_index(drop=True)\n",
    "test_dataset=pd.concat([test_dataset,result_data3frame]).reset_index(drop=True)\n",
    "test_dataset=pd.concat([test_dataset,result_data4frame]).reset_index(drop=True)\n",
    "test_dataset.sample(frac=1).reset_index(drop=True)\n",
    "print(len(test_dataset))\n",
    "mc = MarkovChain(num_key_words=4)\n",
    "for i in range (0, len(test_dataset['News'])):\n",
    "    mc.add_string(str(test_dataset['News'][i]))\n",
    "for j in range (0,800):\n",
    "    stroka=''\n",
    "    if j%50==0:\n",
    "        print(j)\n",
    "    for o in range(0,20):\n",
    "        elem=mc.generate_text(max_length=random.randint(8,15))\n",
    "        for i in range (0, len(elem)):\n",
    "            el=copy.deepcopy(elem[i].replace('\\xad',''))\n",
    "            if i<len(elem)-1 and i>0:\n",
    "                stroka=stroka+el+\" \"\n",
    "            elif i==0:\n",
    "                stroka=stroka+el[0].upper()+el[1:]+\" \"\n",
    "            else:\n",
    "                stroka=stroka+el+\".\"\n",
    "    test_dataset=pd.concat([test_dataset,pd.DataFrame({'News':[copy.deepcopy(stroka)],'InfSec':[0],'FAKE?':[1],'Link':['https://www.fakenews.ru']})]).reset_index(drop=True)\n",
    "    \n",
    "test_dataset"
   ]
  },
  {
   "cell_type": "code",
   "execution_count": null,
   "id": "47d335f8",
   "metadata": {},
   "outputs": [],
   "source": [
    "# перемешать\n",
    "test_dataset.sample(frac=1).reset_index(drop=True)\n",
    "for i in range(0, len(test_dataset['News'])):\n",
    "    u=test_dataset['News'].iloc[i]\n",
    "    u=u.replace('Alexander Antipov', '')\n",
    "    u=u.replace('alexander antipov', '')\n",
    "    test_dataset.loc[i,'News']=copy.deepcopy(u)\n",
    "test_dataset.sample(frac=1).reset_index(drop=True)\n",
    "test_dataset.to_csv('corrrect_dataset.csv', encoding='utf-8', index=False)"
   ]
  },
  {
   "cell_type": "code",
   "execution_count": null,
   "id": "be39810d",
   "metadata": {},
   "outputs": [],
   "source": [
    "test_dataset"
   ]
  },
  {
   "cell_type": "code",
   "execution_count": 10,
   "id": "33153610",
   "metadata": {},
   "outputs": [
    {
     "data": {
      "text/plain": [
       "'И попытаются парализовать жизнь виртуального государства f а пять команд.Должно было происходить после заражения похоже смысл был в том что получив доступ к компьютерам.Для глобальной кооперации первый шаг есть нужно продолжать.Исследования не содержали какой либо вредоносной активности я хотел показать как такая простая.Интеграция aerodisk engine с решениями «аккорд mkt» и «аккорд.Заинтересованные стороны в работе с персональными данными и найти ответы на самые.На panasonic стоит киберпреступная группировка conti управляющая одноимённой программой вымогателем.Менее миллиона человек минимальный первоначальный взнос 15% от стоимости приобретаемой недвижимости новую льготную ипотеку можно.6 через cve 2022 22972 workspace one и vidm.Хакеры против хакеров иб‑специалисты обнаружили новое доказательство того что хакеры зачастую атакуют даже.Хакерам возможность удаленно управлять десятками тысяч брандмауэров уязвимость.Жертвы) также хакеры могли получить фотографии членов семьи (если они привязаны к аккаунту.2021 34423 которая затрагивает широкий спектр компонентов и sdk ошибка описывается как переполнение буфера и.2022 году сообщает iksmedia в этом году минцифры предусмотрено 647 3 млн.Нынешних мер поддержки it отрасли достаточно по ее словам их просто необходимо реализовывать «самая большая.Инцидентов зафиксированных исследователями из tencent) в bleepingcomputer удалось также подтвердить.Это станет еще одним глобальным инцидентом подобным wcry в зависимости.Данных при этом больше половины опрошенных ( 51 9%.Слив не коснулся банковских платежных и регистрационных данных пользователей.Пяти лет лишения свободы за попытку вторжения в компьютерные сети.'"
      ]
     },
     "execution_count": 10,
     "metadata": {},
     "output_type": "execute_result"
    }
   ],
   "source": [
    "test_dataset['News'][799]"
   ]
  },
  {
   "cell_type": "code",
   "execution_count": null,
   "id": "2c720fce",
   "metadata": {},
   "outputs": [],
   "source": []
  }
 ],
 "metadata": {
  "kernelspec": {
   "display_name": "Python 3 (ipykernel)",
   "language": "python",
   "name": "python3"
  },
  "language_info": {
   "codemirror_mode": {
    "name": "ipython",
    "version": 3
   },
   "file_extension": ".py",
   "mimetype": "text/x-python",
   "name": "python",
   "nbconvert_exporter": "python",
   "pygments_lexer": "ipython3",
   "version": "3.10.2"
  }
 },
 "nbformat": 4,
 "nbformat_minor": 5
}
