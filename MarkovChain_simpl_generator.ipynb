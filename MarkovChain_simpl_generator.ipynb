{
 "cells": [
  {
   "cell_type": "code",
   "execution_count": null,
   "id": "afdc12e0",
   "metadata": {},
   "outputs": [],
   "source": [
    "import numpy as np\n",
    "from markov.cc_markov import MarkovChain\n",
    "import random \n",
    "path_real='real/'"
   ]
  },
  {
   "cell_type": "code",
   "execution_count": null,
   "id": "817c0194",
   "metadata": {},
   "outputs": [],
   "source": [
    "test_dataset=pd.DataFrame()\n",
    "result_data1frame=pd.read_csv(path_real+'dataset1_news.csv')\n",
    "result_data2frame=pd.read_csv(path_real+'dataset2_news.csv')\n",
    "result_data3frame=pd.read_csv(path_real+'dataset3_news.csv')\n",
    "result_data4frame=pd.read_csv(path_real+'dataset4_news.csv')\n",
    "test_dataset=pd.concat([test_dataset,result_data1frame]).reset_index(drop=True)\n",
    "test_dataset=pd.concat([test_dataset,result_data2frame]).reset_index(drop=True)\n",
    "test_dataset=pd.concat([test_dataset,result_data3frame]).reset_index(drop=True)\n",
    "test_dataset=pd.concat([test_dataset,result_data4frame]).reset_index(drop=True)\n",
    "test_dataset.sample(frac=1).reset_index(drop=True)\n",
    "print(len(test_dataset))\n",
    "mc = MarkovChain(num_key_words=4)\n",
    "for i in range (0, len(test_dataset['News'])):\n",
    "    mc.add_string(str(test_dataset['News'][i]))\n",
    "test_dataset=pd.DataFrame()\n",
    "for j in range (0,800):\n",
    "    stroka=''\n",
    "    elem=mc.generate_text(max_length=random.randint(8,15))\n",
    "    for i in range (0, len(elem)):\n",
    "        el=elem[i].replace('\\xad','')\n",
    "        if i<len(elem)-1 and i>0:\n",
    "            stroka=stroka+el+\" \"\n",
    "        elif i==0:\n",
    "            stroka=stroka+el[0].upper()+el[1:]+\" \"\n",
    "        else:\n",
    "            stroka=stroka+el+\".\"\n",
    "    test_dataset=pd.concat([test_dataset,pd.DataFrame({'News':[copy.deepcopy(stroka)],'InfSec':[0],'FAKE?':[1],'Link':['https://www.fakenews.ru']})]).reset_index(drop=True)\n",
    "    \n",
    "test_dataset"
   ]
  },
  {
   "cell_type": "code",
   "execution_count": null,
   "id": "47d335f8",
   "metadata": {},
   "outputs": [],
   "source": [
    "# 100 новостей сверху каждого датасета новостной сайта и 100 снизу\n",
    "test_dataset=pd.concat([test_dataset,result_data1frame.head(100)]).reset_index(drop=True)\n",
    "test_dataset=pd.concat([test_dataset,result_data1frame.tail(100)]).reset_index(drop=True)\n",
    "\n",
    "test_dataset=pd.concat([test_dataset,result_data2frame.head(100)]).reset_index(drop=True)\n",
    "test_dataset=pd.concat([test_dataset,result_data2frame.tail(100)]).reset_index(drop=True)\n",
    "\n",
    "test_dataset=pd.concat([test_dataset,result_data3frame.head(100)]).reset_index(drop=True)\n",
    "test_dataset=pd.concat([test_dataset,result_data3frame.tail(100)]).reset_index(drop=True)\n",
    "\n",
    "test_dataset=pd.concat([test_dataset,result_data4frame.head(100)]).reset_index(drop=True)\n",
    "test_dataset=pd.concat([test_dataset,result_data4frame.tail(100)]).reset_index(drop=True)\n",
    "print(len(test_dataset))\n",
    "# перемешать\n",
    "test_dataset.sample(frac=1).reset_index(drop=True)\n",
    "for i in range(0, len(test_dataset['News'])):\n",
    "    u=test_dataset['News'].iloc[i]\n",
    "    u=u.replace('Alexander Antipov', '')\n",
    "    u=u.replace('alexander antipov', '')\n",
    "    test_dataset.loc[i,'News']=copy.deepcopy(u)\n",
    "test_dataset.sample(frac=1).reset_index(drop=True)\n",
    "test_dataset.to_csv('corrrect_dataset.csv', encoding='utf-8', index=False)"
   ]
  }
 ],
 "metadata": {
  "kernelspec": {
   "display_name": "Python 3 (ipykernel)",
   "language": "python",
   "name": "python3"
  },
  "language_info": {
   "codemirror_mode": {
    "name": "ipython",
    "version": 3
   },
   "file_extension": ".py",
   "mimetype": "text/x-python",
   "name": "python",
   "nbconvert_exporter": "python",
   "pygments_lexer": "ipython3",
   "version": "3.10.2"
  }
 },
 "nbformat": 4,
 "nbformat_minor": 5
}
