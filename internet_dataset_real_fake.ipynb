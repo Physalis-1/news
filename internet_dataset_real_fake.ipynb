{
 "cells": [
  {
   "cell_type": "code",
   "execution_count": 1,
   "id": "182f54cf",
   "metadata": {},
   "outputs": [],
   "source": [
    "from bs4 import BeautifulSoup, SoupStrainer\n",
    "import requests\n",
    "import urllib.request\n",
    "import copy\n",
    "import pandas as pd\n",
    "from newspaper import Article\n",
    "import re\n",
    "import nltk\n",
    "from pymorphy2 import MorphAnalyzer\n",
    "from nltk.corpus import stopwords\n",
    "import string\n",
    "import pandas as pd\n",
    "import re \n",
    "path_fake='fake/'\n",
    "path_real='real/'"
   ]
  },
  {
   "cell_type": "code",
   "execution_count": 2,
   "id": "4c520598",
   "metadata": {},
   "outputs": [
    {
     "data": {
      "text/html": [
       "<div>\n",
       "<style scoped>\n",
       "    .dataframe tbody tr th:only-of-type {\n",
       "        vertical-align: middle;\n",
       "    }\n",
       "\n",
       "    .dataframe tbody tr th {\n",
       "        vertical-align: top;\n",
       "    }\n",
       "\n",
       "    .dataframe thead th {\n",
       "        text-align: right;\n",
       "    }\n",
       "</style>\n",
       "<table border=\"1\" class=\"dataframe\">\n",
       "  <thead>\n",
       "    <tr style=\"text-align: right;\">\n",
       "      <th></th>\n",
       "      <th>News</th>\n",
       "      <th>InfSec</th>\n",
       "      <th>FAKE?</th>\n",
       "      <th>Link</th>\n",
       "    </tr>\n",
       "  </thead>\n",
       "  <tbody>\n",
       "    <tr>\n",
       "      <th>0</th>\n",
       "      <td>Помощник депутата Палаты представителей: мы да...</td>\n",
       "      <td>0</td>\n",
       "      <td>1</td>\n",
       "      <td>www.fake.ru</td>\n",
       "    </tr>\n",
       "    <tr>\n",
       "      <th>1</th>\n",
       "      <td>Почему правда может привести к увольнению 29 о...</td>\n",
       "      <td>0</td>\n",
       "      <td>1</td>\n",
       "      <td>www.fake.ru</td>\n",
       "    </tr>\n",
       "    <tr>\n",
       "      <th>2</th>\n",
       "      <td>Выявлено 15 мирных жителей, погибших в результ...</td>\n",
       "      <td>0</td>\n",
       "      <td>1</td>\n",
       "      <td>www.fake.ru</td>\n",
       "    </tr>\n",
       "    <tr>\n",
       "      <th>3</th>\n",
       "      <td>Распечатать\\nИранская женщина была приговорена...</td>\n",
       "      <td>0</td>\n",
       "      <td>1</td>\n",
       "      <td>www.fake.ru</td>\n",
       "    </tr>\n",
       "    <tr>\n",
       "      <th>4</th>\n",
       "      <td>Тайна, окружающая Третий рейх и нацистскую Гер...</td>\n",
       "      <td>0</td>\n",
       "      <td>1</td>\n",
       "      <td>www.fake.ru</td>\n",
       "    </tr>\n",
       "    <tr>\n",
       "      <th>...</th>\n",
       "      <td>...</td>\n",
       "      <td>...</td>\n",
       "      <td>...</td>\n",
       "      <td>...</td>\n",
       "    </tr>\n",
       "    <tr>\n",
       "      <th>795</th>\n",
       "      <td>Это заварилось хорошо и хорошо</td>\n",
       "      <td>0</td>\n",
       "      <td>1</td>\n",
       "      <td>www.fake.ru</td>\n",
       "    </tr>\n",
       "    <tr>\n",
       "      <th>796</th>\n",
       "      <td>Поскольку до дня выборов осталось всего четыре...</td>\n",
       "      <td>0</td>\n",
       "      <td>1</td>\n",
       "      <td>www.fake.ru</td>\n",
       "    </tr>\n",
       "    <tr>\n",
       "      <th>797</th>\n",
       "      <td>Нет, преступления на почве ненависти НЕ «усили...</td>\n",
       "      <td>0</td>\n",
       "      <td>1</td>\n",
       "      <td>www.fake.ru</td>\n",
       "    </tr>\n",
       "    <tr>\n",
       "      <th>798</th>\n",
       "      <td>Форма поиска Поиск От плохого к худшему: выкуп...</td>\n",
       "      <td>0</td>\n",
       "      <td>1</td>\n",
       "      <td>www.fake.ru</td>\n",
       "    </tr>\n",
       "    <tr>\n",
       "      <th>799</th>\n",
       "      <td>Паника по всей стране в течение дня после того...</td>\n",
       "      <td>0</td>\n",
       "      <td>1</td>\n",
       "      <td>www.fake.ru</td>\n",
       "    </tr>\n",
       "  </tbody>\n",
       "</table>\n",
       "<p>800 rows × 4 columns</p>\n",
       "</div>"
      ],
      "text/plain": [
       "                                                  News  InfSec  FAKE?  \\\n",
       "0    Помощник депутата Палаты представителей: мы да...       0      1   \n",
       "1    Почему правда может привести к увольнению 29 о...       0      1   \n",
       "2    Выявлено 15 мирных жителей, погибших в результ...       0      1   \n",
       "3    Распечатать\\nИранская женщина была приговорена...       0      1   \n",
       "4    Тайна, окружающая Третий рейх и нацистскую Гер...       0      1   \n",
       "..                                                 ...     ...    ...   \n",
       "795                     Это заварилось хорошо и хорошо       0      1   \n",
       "796  Поскольку до дня выборов осталось всего четыре...       0      1   \n",
       "797  Нет, преступления на почве ненависти НЕ «усили...       0      1   \n",
       "798  Форма поиска Поиск От плохого к худшему: выкуп...       0      1   \n",
       "799  Паника по всей стране в течение дня после того...       0      1   \n",
       "\n",
       "            Link  \n",
       "0    www.fake.ru  \n",
       "1    www.fake.ru  \n",
       "2    www.fake.ru  \n",
       "3    www.fake.ru  \n",
       "4    www.fake.ru  \n",
       "..           ...  \n",
       "795  www.fake.ru  \n",
       "796  www.fake.ru  \n",
       "797  www.fake.ru  \n",
       "798  www.fake.ru  \n",
       "799  www.fake.ru  \n",
       "\n",
       "[800 rows x 4 columns]"
      ]
     },
     "execution_count": 2,
     "metadata": {},
     "output_type": "execute_result"
    }
   ],
   "source": [
    "news=pd.read_csv(path_fake+'news.csv')\n",
    "test_dataset=pd.DataFrame()\n",
    "for i in range(0, len(news)):\n",
    "    if news['label'].iloc[i]==1 and len(test_dataset)<800:\n",
    "        test_dataset=pd.concat([test_dataset,pd.DataFrame({'News':[news['text'].iloc[i]], 'InfSec':[0],'FAKE?':[1],'Link':['www.fake.ru']})]).reset_index(drop=True)\n",
    "test_dataset"
   ]
  },
  {
   "cell_type": "code",
   "execution_count": 3,
   "id": "ec3ff84f",
   "metadata": {},
   "outputs": [
    {
     "name": "stdout",
     "output_type": "stream",
     "text": [
      "1600\n"
     ]
    }
   ],
   "source": [
    "result_data1frame=pd.read_csv(path_real+'dataset1_news.csv')\n",
    "result_data2frame=pd.read_csv(path_real+'dataset2_news.csv')\n",
    "result_data3frame=pd.read_csv(path_real+'dataset3_news.csv')\n",
    "result_data4frame=pd.read_csv(path_real+'dataset4_news.csv')\n",
    "test_dataset=pd.concat([test_dataset,result_data1frame.head(100)]).reset_index(drop=True)\n",
    "test_dataset=pd.concat([test_dataset,result_data1frame.tail(100)]).reset_index(drop=True)\n",
    "\n",
    "test_dataset=pd.concat([test_dataset,result_data2frame.head(100)]).reset_index(drop=True)\n",
    "test_dataset=pd.concat([test_dataset,result_data2frame.tail(100)]).reset_index(drop=True)\n",
    "\n",
    "test_dataset=pd.concat([test_dataset,result_data3frame.head(100)]).reset_index(drop=True)\n",
    "test_dataset=pd.concat([test_dataset,result_data3frame.tail(100)]).reset_index(drop=True)\n",
    "\n",
    "test_dataset=pd.concat([test_dataset,result_data4frame.head(100)]).reset_index(drop=True)\n",
    "test_dataset=pd.concat([test_dataset,result_data4frame.tail(100)]).reset_index(drop=True)\n",
    "print(len(test_dataset))\n",
    "test_dataset.sample(frac=1).reset_index(drop=True)\n",
    "for i in range(0, len(test_dataset['News'])):\n",
    "    u=test_dataset['News'].iloc[i]\n",
    "    u=u.replace('Alexander Antipov', '')\n",
    "    u=u.replace('alexander antipov', '')\n",
    "    test_dataset.loc[i,'News']=copy.deepcopy(u)\n",
    "test_dataset.sample(frac=1).reset_index(drop=True)\n",
    "test_dataset.to_csv('corrrect_dataset.csv', encoding='utf-8', index=False)"
   ]
  },
  {
   "cell_type": "code",
   "execution_count": 4,
   "id": "62480094",
   "metadata": {},
   "outputs": [
    {
     "data": {
      "text/plain": [
       "<AxesSubplot:>"
      ]
     },
     "execution_count": 4,
     "metadata": {},
     "output_type": "execute_result"
    },
    {
     "data": {
      "image/png": "[encoded data removed]",
      "text/plain": [
       "<Figure size 432x288 with 1 Axes>"
      ]
     },
     "metadata": {
      "needs_background": "light"
     },
     "output_type": "display_data"
    }
   ],
   "source": [
    "text = pd.read_csv('corrrect_dataset.csv')['News'].astype('str')\n",
    "seq_len1 = [len(str(i).split()) for i in text]\n",
    "pd.Series(seq_len1).hist(bins = 50)"
   ]
  },
  {
   "cell_type": "code",
   "execution_count": null,
   "id": "e950144c",
   "metadata": {},
   "outputs": [],
   "source": []
  }
 ],
 "metadata": {
  "kernelspec": {
   "display_name": "Python 3 (ipykernel)",
   "language": "python",
   "name": "python3"
  },
  "language_info": {
   "codemirror_mode": {
    "name": "ipython",
    "version": 3
   },
   "file_extension": ".py",
   "mimetype": "text/x-python",
   "name": "python",
   "nbconvert_exporter": "python",
   "pygments_lexer": "ipython3",
   "version": "3.10.2"
  }
 },
 "nbformat": 4,
 "nbformat_minor": 5
}
