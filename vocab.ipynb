{
 "cells": [
  {
   "cell_type": "code",
   "execution_count": 116,
   "id": "3ee4284d",
   "metadata": {},
   "outputs": [],
   "source": [
    "import re\n",
    "import nltk\n",
    "from pymorphy2 import MorphAnalyzer\n",
    "from nltk.corpus import stopwords\n",
    "import string\n",
    "import pandas as pd"
   ]
  },
  {
   "cell_type": "code",
   "execution_count": 117,
   "id": "463a4d65",
   "metadata": {},
   "outputs": [],
   "source": [
    "import io\n",
    "from pdfminer.converter import TextConverter\n",
    "from pdfminer.pdfinterp import PDFPageInterpreter\n",
    "from pdfminer.pdfinterp import PDFResourceManager\n",
    "from pdfminer.pdfpage import PDFPage\n",
    " \n",
    "def extract_text_from_pdf(pdf_path):\n",
    "    resource_manager = PDFResourceManager()\n",
    "    fake_file_handle = io.StringIO()\n",
    "    converter = TextConverter(resource_manager, fake_file_handle)\n",
    "    page_interpreter = PDFPageInterpreter(resource_manager, converter)\n",
    " \n",
    "    with open(pdf_path, 'rb') as fh:\n",
    "        for page in PDFPage.get_pages(fh, \n",
    "                                      caching=True,\n",
    "                                      check_extractable=True):\n",
    "            page_interpreter.process_page(page)\n",
    " \n",
    "        text = fake_file_handle.getvalue()\n",
    " \n",
    "    # close open handles\n",
    "    converter.close()\n",
    "    fake_file_handle.close()\n",
    " \n",
    "    if text:\n",
    "        return text"
   ]
  },
  {
   "cell_type": "code",
   "execution_count": 118,
   "id": "34dff87c",
   "metadata": {},
   "outputs": [],
   "source": [
    "def remove_chars_from_text(text, chars):\n",
    "    return \"\".join([ch for ch in text if ch not in chars])"
   ]
  },
  {
   "cell_type": "code",
   "execution_count": 119,
   "id": "0f99ce02",
   "metadata": {},
   "outputs": [],
   "source": [
    "def lemmatize(doc):\n",
    "    doc = re.sub(patterns, ' ', doc)\n",
    "    tokens = []\n",
    "    for token in doc.split():\n",
    "        if token and token not in stopwords_ru:\n",
    "            token = token.strip()\n",
    "            token = morph.normal_forms(token)[0]\n",
    "            tokens.append(token)\n",
    "    if len(tokens) > 2:\n",
    "        return tokens\n",
    "    return None"
   ]
  },
  {
   "cell_type": "code",
   "execution_count": 120,
   "id": "f1d37dde",
   "metadata": {},
   "outputs": [],
   "source": [
    "patterns = \"[A-Za-z0-9!#$%&'()*+,./:;<=>?@[\\]^_`{|}~—\\\"\\-]+\"\n",
    "stopwords_ru = stopwords.words(\"russian\")\n",
    "morph = MorphAnalyzer()"
   ]
  },
  {
   "cell_type": "code",
   "execution_count": 121,
   "id": "c8d3f106",
   "metadata": {},
   "outputs": [
    {
     "data": {
      "text/plain": [
       "['C:/Users/physalis/Desktop/file/126fz.pdf',\n",
       " 'C:/Users/physalis/Desktop/file/149-5-144.pdf',\n",
       " 'C:/Users/physalis/Desktop/file/149fz.pdf',\n",
       " 'C:/Users/physalis/Desktop/file/152fz.pdf',\n",
       " 'C:/Users/physalis/Desktop/file/390fz.pdf',\n",
       " 'C:/Users/physalis/Desktop/file/4293850561.pdf',\n",
       " 'C:/Users/physalis/Desktop/file/4293853566.pdf',\n",
       " 'C:/Users/physalis/Desktop/file/63fz.pdf',\n",
       " 'C:/Users/physalis/Desktop/file/98fz.pdf',\n",
       " 'C:/Users/physalis/Desktop/file/996.pdf',\n",
       " 'C:/Users/physalis/Desktop/file/antiv240-24-3095.pdf',\n",
       " 'C:/Users/physalis/Desktop/file/gosstand.pdf',\n",
       " 'C:/Users/physalis/Desktop/file/GOST-P-50922-2006.pdf',\n",
       " 'C:/Users/physalis/Desktop/file/gost50739-95.pdf',\n",
       " 'C:/Users/physalis/Desktop/file/metoddocs.pdf',\n",
       " 'C:/Users/physalis/Desktop/file/pp1119.pdf',\n",
       " 'C:/Users/physalis/Desktop/file/pr17.pdf',\n",
       " 'C:/Users/physalis/Desktop/file/pr21.pdf',\n",
       " 'C:/Users/physalis/Desktop/file/pr31.pdf',\n",
       " 'C:/Users/physalis/Desktop/file/pr416-489.pdf',\n",
       " 'C:/Users/physalis/Desktop/file/rd.pdf',\n",
       " 'C:/Users/physalis/Desktop/file/rkn-p.pdf',\n",
       " 'C:/Users/physalis/Desktop/file/rkn104.pdf',\n",
       " 'C:/Users/physalis/Desktop/file/rkn996.pdf',\n",
       " 'C:/Users/physalis/Desktop/file/up351.pdf']"
      ]
     },
     "execution_count": 121,
     "metadata": {},
     "output_type": "execute_result"
    }
   ],
   "source": [
    "import os\n",
    "pdf_array=[]\n",
    "path=\"C:/Users/physalis/Desktop/file\"\n",
    "for root, dirs, files in os.walk(path):  \n",
    "    for filename in files:\n",
    "        pdf_array.append(path+'/'+filename)\n",
    "pdf_array"
   ]
  },
  {
   "cell_type": "code",
   "execution_count": 122,
   "id": "c63b45bd",
   "metadata": {},
   "outputs": [],
   "source": [
    "# f = open('rd.txt', \"r\", encoding=\"utf-8\")\n",
    "# text = f.read()\n",
    "# pdf_array=['rd.pdf']\n",
    "data_frame=pd.DataFrame()\n",
    "for i in range (0,len(pdf_array)):\n",
    "    text=extract_text_from_pdf(pdf_array[i])\n",
    "    text = text.lower()\n",
    "    data_frame=pd.concat([data_frame,pd.DataFrame([text])])\n",
    "#     data_frame = data_frame.append({0:text}, ignore_index=True)\n",
    "# data_frame=pd.DataFrame([text])"
   ]
  },
  {
   "cell_type": "code",
   "execution_count": 123,
   "id": "b7e15e22",
   "metadata": {},
   "outputs": [
    {
     "data": {
      "text/plain": [
       "25"
      ]
     },
     "execution_count": 123,
     "metadata": {},
     "output_type": "execute_result"
    }
   ],
   "source": [
    "len(data_frame[0][0])"
   ]
  },
  {
   "cell_type": "code",
   "execution_count": 124,
   "id": "d7bff467",
   "metadata": {},
   "outputs": [],
   "source": [
    "data = data_frame[0].apply(lemmatize)"
   ]
  },
  {
   "cell_type": "code",
   "execution_count": 125,
   "id": "883d9427",
   "metadata": {},
   "outputs": [
    {
     "data": {
      "text/plain": [
       "0    [июль, год, фз, российский, федерация, федерал...\n",
       "0    [методический, рекомендация, обеспечение, помо...\n",
       "0    [федеральный, закон, июль, г, фз, информация, ...\n",
       "0    [федеральный, закон, июль, г, фз, персональный...\n",
       "0    [декабрь, год, фз, российский, федерация, феде...\n",
       "0    [федеральный, агентство, технический, регулиро...\n",
       "0    [федеральный, агентство, технический, регулиро...\n",
       "0    [апрель, год, фз, российский, федерация, федер...\n",
       "0    [июль, год, фз, российский, федерация, федерал...\n",
       "0    [методический, рекомендация, применение, прика...\n",
       "0    [федеральный, служба, технический, экспортный,...\n",
       "0    [настоящий, стандарт, мочь, полностью, частичн...\n",
       "0    [гост, р, группа, э, национальный, стандарт, р...\n",
       "0    [гост, р, государственный, стандарт, российски...\n",
       "0    [методический, документ, мера, защита, информа...\n",
       "0    [правительство, российский, федерация, постано...\n",
       "0    [федеральный, служба, технический, экспортный,...\n",
       "0    [федеральный, служба, технический, экспортный,...\n",
       "0    [федеральный, служба, технический, экспортный,...\n",
       "0    [зарегистрировать, минюст, рф, октябрь, г, фед...\n",
       "0    [сборник, руководящий, документ, защита, инфор...\n",
       "0    [министерство, связь, массовый, коммуникация, ...\n",
       "0    [зарегистрировать, минюст, рф, сентябрь, г, ми...\n",
       "0    [приказ, федеральный, служба, надзор, сфера, с...\n",
       "0    [март, год, указ, президент, российский, федер...\n",
       "Name: 0, dtype: object"
      ]
     },
     "execution_count": 125,
     "metadata": {},
     "output_type": "execute_result"
    }
   ],
   "source": [
    "data"
   ]
  },
  {
   "cell_type": "code",
   "execution_count": 126,
   "id": "41b678ca",
   "metadata": {},
   "outputs": [
    {
     "data": {
      "text/plain": [
       "25"
      ]
     },
     "execution_count": 126,
     "metadata": {},
     "output_type": "execute_result"
    }
   ],
   "source": [
    "len(data[0])"
   ]
  },
  {
   "cell_type": "code",
   "execution_count": 127,
   "id": "4c095abf",
   "metadata": {},
   "outputs": [],
   "source": [
    "from collections import defaultdict\n",
    "word_freq = defaultdict(int)\n",
    "for tokens in data.iloc[:]:\n",
    "    for token in tokens:\n",
    "        word_freq[token] += 1"
   ]
  },
  {
   "cell_type": "code",
   "execution_count": 128,
   "id": "c6d4d1f2",
   "metadata": {},
   "outputs": [
    {
     "data": {
      "text/plain": [
       "5054"
      ]
     },
     "execution_count": 128,
     "metadata": {},
     "output_type": "execute_result"
    }
   ],
   "source": [
    "len(word_freq)"
   ]
  },
  {
   "cell_type": "code",
   "execution_count": 141,
   "id": "e49d3d99",
   "metadata": {},
   "outputs": [
    {
     "data": {
      "text/plain": [
       "['информация',\n",
       " 'система',\n",
       " 'информационный',\n",
       " 'защита',\n",
       " 'средство',\n",
       " 'данные',\n",
       " 'доступ',\n",
       " 'персональный',\n",
       " 'должный',\n",
       " 'обеспечение',\n",
       " 'связь',\n",
       " 'безопасность',\n",
       " 'федеральный',\n",
       " 'требование',\n",
       " 'оператор',\n",
       " 'управление',\n",
       " 'технический',\n",
       " 'мера',\n",
       " 'закон',\n",
       " 'российский',\n",
       " 'программный',\n",
       " 'федерация',\n",
       " 'субъект',\n",
       " 'который',\n",
       " 'соответствие',\n",
       " 'использование',\n",
       " 'автоматизированный',\n",
       " 'контроль',\n",
       " 'пользователь',\n",
       " 'сеть',\n",
       " 'обработка',\n",
       " 'настоящий',\n",
       " 'статья',\n",
       " 'документ',\n",
       " 'лицо',\n",
       " 'орган',\n",
       " 'класс',\n",
       " 'иной',\n",
       " 'объект',\n",
       " 'государственный',\n",
       " 'осуществляться',\n",
       " 'также',\n",
       " 'защищённость',\n",
       " 'число',\n",
       " 'реализация',\n",
       " 'изменение',\n",
       " 'действие',\n",
       " 'носитель',\n",
       " 'правило',\n",
       " 'регистрация',\n",
       " 'электронный',\n",
       " 'г',\n",
       " 'угроза',\n",
       " 'возможность',\n",
       " 'обеспечиваться',\n",
       " 'случай',\n",
       " 'технология',\n",
       " 'услуга',\n",
       " 'область',\n",
       " 'метод',\n",
       " 'часть',\n",
       " 'уровень',\n",
       " 'право',\n",
       " 'зис',\n",
       " 'устройство',\n",
       " 'передача',\n",
       " 'порядок',\n",
       " 'установленный',\n",
       " 'обеспечивать',\n",
       " 'несанкционированный',\n",
       " 'общий',\n",
       " 'процесс',\n",
       " 'функционирование',\n",
       " 'запись',\n",
       " 'целостность',\n",
       " 'виртуальный',\n",
       " 'дать',\n",
       " 'фз',\n",
       " 'ас',\n",
       " 'ресурс',\n",
       " 'подпись',\n",
       " 'организация',\n",
       " 'компонент',\n",
       " 'усиление',\n",
       " 'являться',\n",
       " 'базовый',\n",
       " 'законодательство',\n",
       " 'содержание',\n",
       " 'аутентификация',\n",
       " 'такой',\n",
       " 'осуществлять',\n",
       " 'определение',\n",
       " 'разработка',\n",
       " 'машинный',\n",
       " 'событие',\n",
       " 'проверка',\n",
       " 'упд',\n",
       " 'указанный',\n",
       " 'цель',\n",
       " 'п']"
      ]
     },
     "execution_count": 141,
     "metadata": {},
     "output_type": "execute_result"
    }
   ],
   "source": [
    "exit_vocab=sorted(word_freq, key=word_freq.get, reverse=True)[:100]\n",
    "exit_vocab"
   ]
  },
  {
   "cell_type": "code",
   "execution_count": 139,
   "id": "6dbeba02",
   "metadata": {},
   "outputs": [
    {
     "data": {
      "text/html": [
       "<div>\n",
       "<style scoped>\n",
       "    .dataframe tbody tr th:only-of-type {\n",
       "        vertical-align: middle;\n",
       "    }\n",
       "\n",
       "    .dataframe tbody tr th {\n",
       "        vertical-align: top;\n",
       "    }\n",
       "\n",
       "    .dataframe thead th {\n",
       "        text-align: right;\n",
       "    }\n",
       "</style>\n",
       "<table border=\"1\" class=\"dataframe\">\n",
       "  <thead>\n",
       "    <tr style=\"text-align: right;\">\n",
       "      <th></th>\n",
       "      <th>0</th>\n",
       "    </tr>\n",
       "  </thead>\n",
       "  <tbody>\n",
       "    <tr>\n",
       "      <th>0</th>\n",
       "      <td>информация</td>\n",
       "    </tr>\n",
       "    <tr>\n",
       "      <th>1</th>\n",
       "      <td>система</td>\n",
       "    </tr>\n",
       "    <tr>\n",
       "      <th>2</th>\n",
       "      <td>информационный</td>\n",
       "    </tr>\n",
       "    <tr>\n",
       "      <th>3</th>\n",
       "      <td>защита</td>\n",
       "    </tr>\n",
       "    <tr>\n",
       "      <th>4</th>\n",
       "      <td>средство</td>\n",
       "    </tr>\n",
       "    <tr>\n",
       "      <th>...</th>\n",
       "      <td>...</td>\n",
       "    </tr>\n",
       "    <tr>\n",
       "      <th>5049</th>\n",
       "      <td>злоумышленник</td>\n",
       "    </tr>\n",
       "    <tr>\n",
       "      <th>5050</th>\n",
       "      <td>обезличиваться</td>\n",
       "    </tr>\n",
       "    <tr>\n",
       "      <th>5051</th>\n",
       "      <td>связывание</td>\n",
       "    </tr>\n",
       "    <tr>\n",
       "      <th>5052</th>\n",
       "      <td>обсуждаться</td>\n",
       "    </tr>\n",
       "    <tr>\n",
       "      <th>5053</th>\n",
       "      <td>ассигнование</td>\n",
       "    </tr>\n",
       "  </tbody>\n",
       "</table>\n",
       "<p>5054 rows × 1 columns</p>\n",
       "</div>"
      ],
      "text/plain": [
       "                   0\n",
       "0         информация\n",
       "1            система\n",
       "2     информационный\n",
       "3             защита\n",
       "4           средство\n",
       "...              ...\n",
       "5049   злоумышленник\n",
       "5050  обезличиваться\n",
       "5051      связывание\n",
       "5052     обсуждаться\n",
       "5053    ассигнование\n",
       "\n",
       "[5054 rows x 1 columns]"
      ]
     },
     "execution_count": 139,
     "metadata": {},
     "output_type": "execute_result"
    }
   ],
   "source": [
    "voccab=pd.DataFrame(exit_vocab)\n",
    "voccab"
   ]
  },
  {
   "cell_type": "code",
   "execution_count": 140,
   "id": "2f9221e5",
   "metadata": {},
   "outputs": [],
   "source": [
    "voccab.to_csv('vocab.csv', sep='\\t',index=False,header=False)"
   ]
  },
  {
   "cell_type": "code",
   "execution_count": null,
   "id": "22357381",
   "metadata": {},
   "outputs": [],
   "source": []
  },
  {
   "cell_type": "code",
   "execution_count": null,
   "id": "cfcdc302",
   "metadata": {},
   "outputs": [],
   "source": []
  }
 ],
 "metadata": {
  "kernelspec": {
   "display_name": "Python 3 (ipykernel)",
   "language": "python",
   "name": "python3"
  },
  "language_info": {
   "codemirror_mode": {
    "name": "ipython",
    "version": 3
   },
   "file_extension": ".py",
   "mimetype": "text/x-python",
   "name": "python",
   "nbconvert_exporter": "python",
   "pygments_lexer": "ipython3",
   "version": "3.10.2"
  }
 },
 "nbformat": 4,
 "nbformat_minor": 5
}
